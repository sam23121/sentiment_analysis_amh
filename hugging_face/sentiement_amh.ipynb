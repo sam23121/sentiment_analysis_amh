{
 "cells": [
  {
   "cell_type": "code",
   "execution_count": 1,
   "metadata": {},
   "outputs": [
    {
     "name": "stderr",
     "output_type": "stream",
     "text": [
      "/home/sam/Documents/projects/practice/.venv/lib/python3.10/site-packages/tqdm/auto.py:21: TqdmWarning: IProgress not found. Please update jupyter and ipywidgets. See https://ipywidgets.readthedocs.io/en/stable/user_install.html\n",
      "  from .autonotebook import tqdm as notebook_tqdm\n"
     ]
    }
   ],
   "source": [
    "from transformers import pipeline \n",
    "import torch"
   ]
  },
  {
   "cell_type": "markdown",
   "metadata": {},
   "source": [
    "### Translation"
   ]
  },
  {
   "cell_type": "code",
   "execution_count": 2,
   "metadata": {},
   "outputs": [
    {
     "name": "stderr",
     "output_type": "stream",
     "text": [
      "/home/sam/Documents/projects/practice/.venv/lib/python3.10/site-packages/huggingface_hub/file_download.py:1132: FutureWarning: `resume_download` is deprecated and will be removed in version 1.0.0. Downloads always resume when possible. If you want to force a new download, use `force_download=True`.\n",
      "  warnings.warn(\n"
     ]
    }
   ],
   "source": [
    "translator = pipeline(task=\"translation\",\n",
    "                      model=\"facebook/nllb-200-distilled-600M\",\n",
    "                      torch_dtype=torch.bfloat16) "
   ]
  },
  {
   "cell_type": "code",
   "execution_count": 29,
   "metadata": {},
   "outputs": [],
   "source": [
    "text = \"\"\"የአሁን መንግስት በጣም ጨቃይ ነው\"\"\"\n",
    "text2 = \"የእቀሌ ብሔር መጥፋት አለበት\"\n",
    "text3 = \"አበበ ኢትዮጵያዊ ነው።\"\n",
    "text4 = \"አንቺ ማትረቢ\"\n",
    "text5 = \"እግዝአብሔር ይባርክ\""
   ]
  },
  {
   "cell_type": "code",
   "execution_count": 24,
   "metadata": {},
   "outputs": [],
   "source": [
    "def translate(text, src_lang, tgt_lang):\n",
    "    text_translated = translator(text,\n",
    "                             src_lang=src_lang,\n",
    "                             tgt_lang=tgt_lang)\n",
    "    \n",
    "    return list(text_translated[0].values())[0]"
   ]
  },
  {
   "cell_type": "code",
   "execution_count": 25,
   "metadata": {},
   "outputs": [],
   "source": [
    "text_translated = translate(text, \"amh_Ethi\", \"eng_Latn\")\n",
    "text_translated2 = translate(text2, \"amh_Ethi\", \"eng_Latn\")\n",
    "text_translated3 = translate(text3, \"amh_Ethi\", \"eng_Latn\")\n",
    "text_translated4 = translate(text4, \"amh_Ethi\", \"eng_Latn\")"
   ]
  },
  {
   "cell_type": "code",
   "execution_count": 30,
   "metadata": {},
   "outputs": [],
   "source": [
    "text_translated5 = translate(text5, \"amh_Ethi\", \"eng_Latn\")"
   ]
  },
  {
   "cell_type": "markdown",
   "metadata": {},
   "source": [
    "### Zero shot classfication"
   ]
  },
  {
   "cell_type": "code",
   "execution_count": 14,
   "metadata": {},
   "outputs": [
    {
     "name": "stderr",
     "output_type": "stream",
     "text": [
      "/home/sam/Documents/projects/practice/.venv/lib/python3.10/site-packages/huggingface_hub/file_download.py:1132: FutureWarning: `resume_download` is deprecated and will be removed in version 1.0.0. Downloads always resume when possible. If you want to force a new download, use `force_download=True`.\n",
      "  warnings.warn(\n"
     ]
    }
   ],
   "source": [
    "classifier = pipeline(\"zero-shot-classification\", model=\"MoritzLaurer/DeBERTa-v3-base-mnli-fever-anli\")\n"
   ]
  },
  {
   "cell_type": "code",
   "execution_count": 45,
   "metadata": {},
   "outputs": [],
   "source": [
    "# sequence_to_classify = \"Angela Merkel is a politician in Germany and leader of the CDU\"\n",
    "\n",
    "def classfication(text, candidate_labels):\n",
    "    output = classifier(text, candidate_labels, multi_label=False)\n",
    "    labels_order = output['labels']\n",
    "    scores_order = output['scores']\n",
    "\n",
    "    for i in range(len(labels_order)):\n",
    "        print(f\"{labels_order[i]} has a {scores_order[i]*100:.2f}%\")\n",
    "    # print(output)\n",
    "\n"
   ]
  },
  {
   "cell_type": "code",
   "execution_count": 46,
   "metadata": {},
   "outputs": [],
   "source": [
    "candidate_labels = [\"Very Negative\", \"Negative\", \"Neutral\", \"Postive\", \"Very Positive\"]\n"
   ]
  },
  {
   "cell_type": "code",
   "execution_count": 47,
   "metadata": {},
   "outputs": [
    {
     "name": "stdout",
     "output_type": "stream",
     "text": [
      "Very Positive has a 90.44%\n",
      "Postive has a 6.67%\n",
      "Neutral has a 2.11%\n",
      "Negative has a 0.47%\n",
      "Very Negative has a 0.30%\n"
     ]
    }
   ],
   "source": [
    "classfication(text_translated5, candidate_labels)"
   ]
  },
  {
   "cell_type": "code",
   "execution_count": null,
   "metadata": {},
   "outputs": [],
   "source": []
  }
 ],
 "metadata": {
  "kernelspec": {
   "display_name": ".venv",
   "language": "python",
   "name": "python3"
  },
  "language_info": {
   "codemirror_mode": {
    "name": "ipython",
    "version": 3
   },
   "file_extension": ".py",
   "mimetype": "text/x-python",
   "name": "python",
   "nbconvert_exporter": "python",
   "pygments_lexer": "ipython3",
   "version": "3.10.14"
  }
 },
 "nbformat": 4,
 "nbformat_minor": 2
}
